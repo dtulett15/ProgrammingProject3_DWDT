{
 "cells": [
  {
   "cell_type": "markdown",
   "metadata": {},
   "source": [
    "# Programming Project 3\n",
    "---\n",
    "**Author:** Dylan Tulett\n",
    "**Version:** 1.0  \n",
    "**Semester:** Fall 2020  \n",
    "\n",
    "This *notebook* contains my solution to **Programming Project 3**\n",
    "\n",
    "- Problem 1: Import data from a csv file regarding annually recorded populations of Afrrican countries. Then print a PrettyTable of the raw data, and a table of the Average population per country, max population, and min population for each year."
   ]
  },
  {
   "cell_type": "code",
   "execution_count": 1,
   "metadata": {},
   "outputs": [],
   "source": [
    "import os\n",
    "import csv\n",
    "import numpy as np\n",
    "from prettytable import PrettyTable"
   ]
  },
  {
   "cell_type": "markdown",
   "metadata": {},
   "source": [
    "## Part 1"
   ]
  },
  {
   "cell_type": "code",
   "execution_count": 2,
   "metadata": {},
   "outputs": [],
   "source": [
    "def create_dataset_list(filename):\n",
    "    \"\"\"Creates a 2D list out of a csv file.\"\"\"\n",
    "    afr_pop=[]\n",
    "    with open(filename, mode='r', newline='') as afr:\n",
    "        reader = csv.reader(afr)\n",
    "        for record in reader:\n",
    "            country, code, pop2015, pop2016, pop2017, pop2018, pop2019 = record\n",
    "            afr_pop += [[country, code, pop2015, pop2016, pop2017, pop2018, pop2019]]\n",
    "    return afr_pop\n"
   ]
  },
  {
   "cell_type": "markdown",
   "metadata": {},
   "source": [
    "## Part 2"
   ]
  },
  {
   "cell_type": "code",
   "execution_count": 3,
   "metadata": {},
   "outputs": [],
   "source": [
    "def popsOnly(dataset):\n",
    "    \"\"\"Converts the list of African data to a numpy array of just the populations.\n",
    "    Argument is the dataset.\"\"\"\n",
    "    temp_list = []\n",
    "    for record in dataset:\n",
    "        country, code, pop2015, pop2016, pop2017, pop2018, pop2019 = record\n",
    "        temp_list += [[int(pop2015),int(pop2016),int(pop2017),int(pop2018),int(pop2019)]]\n",
    "    temp_array = np.array(temp_list)\n",
    "    final_array = np.delete(temp_array,0,0) #gets rid of year headers\n",
    "    return(final_array)"
   ]
  },
  {
   "cell_type": "markdown",
   "metadata": {},
   "source": [
    "## Part 3"
   ]
  },
  {
   "cell_type": "code",
   "execution_count": 4,
   "metadata": {},
   "outputs": [],
   "source": [
    "def tabulateDataRaw(dataset):\n",
    "    \"\"\"This function puts the data from the afr list into a pretty table to be displayed.\n",
    "    Pass the dataset into the arguments.\"\"\"\n",
    "\n",
    "    #create table\n",
    "    pt = PrettyTable()    \n",
    "    pt.clear_rows()\n",
    "    \n",
    "    #header\n",
    "    pt.field_names = ['Country', 'Code', '2015', '2016', '2017', '2018', '2019']\n",
    "    \n",
    "    #alignment of columns\n",
    "    pt.align['Country'] = 'r'\n",
    "    pt.align['2015'] = 'r'\n",
    "    pt.align['2016'] = 'r'\n",
    "    pt.align['2017'] = 'r'\n",
    "    pt.align['2018'] = 'r'\n",
    "    pt.align['2019'] = 'r'\n",
    "    \n",
    "    for r in range(1,len(dataset)):\n",
    "        pt.add_row([afr_data[r][0],afr_data[r][1],afr_data[r][2],afr_data[r][3],afr_data[r][4],\n",
    "                    afr_data[r][5],afr_data[r][6]])\n",
    "    return(pt)\n",
    "    "
   ]
  },
  {
   "cell_type": "markdown",
   "metadata": {},
   "source": [
    "## Part 4"
   ]
  },
  {
   "cell_type": "code",
   "execution_count": 5,
   "metadata": {},
   "outputs": [],
   "source": [
    "def formatNum(num):\n",
    "    \"\"\"This function formats floats to have 2 decimal places and \n",
    "    comma seperated thousands.\"\"\"\n",
    "    finalNum = '{:,.2f}'.format(num)\n",
    "    return finalNum"
   ]
  },
  {
   "cell_type": "code",
   "execution_count": 6,
   "metadata": {},
   "outputs": [],
   "source": [
    "def calcMeanMaxMin(dataset):\n",
    "    \"\"\"This function calculates the mean, max, min of the african population nd array.\"\"\"\n",
    "    afr_mean = np.mean(dataset, axis = 0)\n",
    "    afr_max = np.max(dataset, axis = 0)\n",
    "    afr_min = np.min(dataset, axis = 0)\n",
    "    \n",
    "    return(afr_mean, afr_max, afr_min)"
   ]
  },
  {
   "cell_type": "code",
   "execution_count": 7,
   "metadata": {},
   "outputs": [],
   "source": [
    "def tabulateMeanMaxMin(dataset):\n",
    "    #unpack tuple from calc function\n",
    "    afr_mean, afr_max, afr_min = calcMeanMaxMin(dataset)\n",
    "    \n",
    "    #create table\n",
    "    pt = PrettyTable()\n",
    "    pt.clear_rows()\n",
    "     \n",
    "    #header\n",
    "    pt.field_names = ['Summary Measure','2015','2016','2017','2018','2019']\n",
    "    \n",
    "    #alignment of columns\n",
    "    pt.align['Summary Measure'] = 'r'\n",
    "    pt.align['2015'] = 'r'\n",
    "    pt.align['2016'] = 'r'\n",
    "    pt.align['2017'] = 'r'\n",
    "    pt.align['2018'] = 'r'\n",
    "    pt.align['2019'] = 'r'\n",
    "    \n",
    "    \n",
    "    pt.add_row([\n",
    "        'MEAN', formatNum(afr_mean[0]), formatNum(afr_mean[1]), formatNum(afr_mean[2]),\n",
    "        formatNum(afr_mean[3]), formatNum(afr_mean[4])\n",
    "    ])\n",
    "    \n",
    "    pt.add_row([\n",
    "        'MAX', formatNum(afr_max[0]), formatNum(afr_max[1]), formatNum(afr_max[2]),\n",
    "        formatNum(afr_max[3]), formatNum(afr_max[4])\n",
    "    ])\n",
    "    \n",
    "    pt.add_row([\n",
    "        'MIN',formatNum(afr_min[0]), formatNum(afr_min[1]), formatNum(afr_min[2]),\n",
    "        formatNum(afr_min[3]), formatNum(afr_min[4])\n",
    "    ])\n",
    "    \n",
    "    return pt"
   ]
  },
  {
   "cell_type": "markdown",
   "metadata": {},
   "source": [
    "## Part 5"
   ]
  },
  {
   "cell_type": "code",
   "execution_count": 8,
   "metadata": {},
   "outputs": [
    {
     "name": "stdout",
     "output_type": "stream",
     "text": [
      "+--------------------------+------+-----------+-----------+-----------+-----------+-----------+\n",
      "|                  Country | Code |      2015 |      2016 |      2017 |      2018 |      2019 |\n",
      "+--------------------------+------+-----------+-----------+-----------+-----------+-----------+\n",
      "|                  Algeria | DZA  |  39728025 |  40551404 |  41389198 |  42228429 |  43053054 |\n",
      "|                   Angola | AGO  |  27884381 |  28842484 |  29816748 |  30809762 |  31825295 |\n",
      "|                    Benin | BEN  |  10575952 |  10872067 |  11175204 |  11485048 |  11801151 |\n",
      "|                 Botswana | BWA  |   2120716 |   2159944 |   2205128 |   2254126 |   2303697 |\n",
      "|             Burkina Faso | BFA  |  18110624 |  18646378 |  19193284 |  19751535 |  20321378 |\n",
      "|               Cabo Verde | CPV  |    524743 |    531146 |    537497 |    543767 |    549935 |\n",
      "|                 Cameroon | CMR  |  23298368 |  23926539 |  24566045 |  25216237 |  25876380 |\n",
      "| Central African Republic | CAF  |   4493170 |   4537687 |   4596028 |   4666377 |   4745185 |\n",
      "|                     Chad | TCD  |  14110975 |  14561666 |  15016773 |  15477751 |  15946876 |\n",
      "|                  Comoros | COM  |    777424 |    795592 |    813892 |    832322 |    850886 |\n",
      "|         Congo, Dem. Rep. | COD  |  76244544 |  78789127 |  81398764 |  84068091 |  86790567 |\n",
      "|              Congo, Rep. | COG  |   4856095 |   4980999 |   5110702 |   5244363 |   5380508 |\n",
      "|            Cote d'Ivoire | CIV  |  23226143 |  23822714 |  24437469 |  25069229 |  25716544 |\n",
      "|                 Djibouti | DJI  |    913993 |    929112 |    944097 |    958920 |    973560 |\n",
      "|         Egypt, Arab Rep. | EGY  |  92442547 |  94447072 |  96442593 |  98423595 | 100388073 |\n",
      "|        Equatorial Guinea | GNQ  |   1168568 |   1215179 |   1262001 |   1308974 |   1355986 |\n",
      "|                 Eswatini | SWZ  |   1104044 |   1113984 |   1124753 |   1136191 |   1148130 |\n",
      "|                 Ethiopia | ETH  | 100835458 | 103603501 | 106400024 | 109224559 | 112078730 |\n",
      "|                    Gabon | GAB  |   1947686 |   2007873 |   2064823 |   2119275 |   2172579 |\n",
      "|                   Gambia | GMB  |   2085860 |   2149139 |   2213894 |   2280102 |   2347706 |\n",
      "|                    Ghana | GHA  |  27849205 |  28481946 |  29121471 |  29767108 |  30417856 |\n",
      "|                   Guinea | GIN  |  11432088 |  11738441 |  12067539 |  12414318 |  12771246 |\n",
      "|            Guinea-Bissau | GNB  |   1737202 |   1782437 |   1828146 |   1874309 |   1920922 |\n",
      "|                    Kenya | KEN  |  47878336 |  49051686 |  50221473 |  51393010 |  52573973 |\n",
      "|                  Lesotho | LSO  |   2059021 |   2075001 |   2091412 |   2108132 |   2125268 |\n",
      "|                  Liberia | LBR  |   4472230 |   4586788 |   4702228 |   4818977 |   4937374 |\n",
      "|                    Libya | LBY  |   6418315 |   6492164 |   6580724 |   6678567 |   6777452 |\n",
      "|                   Malawi | MWI  |  16745303 |  17205289 |  17670260 |  18143315 |  18628747 |\n",
      "|                     Mali | MLI  |  17438778 |  17965429 |  18512394 |  19077690 |  19658031 |\n",
      "|               Mauritania | MRT  |   4046301 |   4163534 |   4282574 |   4403319 |   4525696 |\n",
      "|                Mauritius | MUS  |   1262605 |   1263473 |   1264613 |   1265303 |   1265711 |\n",
      "|                  Morocco | MAR  |  34663603 |  35126296 |  35581294 |  36029138 |  36471769 |\n",
      "|               Mozambique | MOZ  |  27042002 |  27829942 |  28649007 |  29495962 |  30366036 |\n",
      "|                  Namibia | NAM  |   2314904 |   2358041 |   2402603 |   2448255 |   2494530 |\n",
      "|                    Niger | NER  |  20001663 |  20788838 |  21602472 |  22442948 |  23310715 |\n",
      "|                  Nigeria | NGA  | 181137448 | 185960289 | 190873311 | 195874740 | 200963599 |\n",
      "|                   Rwanda | RWA  |  11369071 |  11668818 |  11980937 |  12301939 |  12626950 |\n",
      "|    Sao Tome and Principe | STP  |    199432 |    203227 |    207089 |    211028 |    215056 |\n",
      "|                  Senegal | SEN  |  14578459 |  14993528 |  15419381 |  15854360 |  16296364 |\n",
      "|               Seychelles | SYC  |     93419 |     94677 |     95843 |     96762 |     97625 |\n",
      "|             Sierra Leone | SLE  |   7171914 |   7328838 |   7488431 |   7650154 |   7813215 |\n",
      "|                  Somalia | SOM  |  13797201 |  14185613 |  14589119 |  15008154 |  15442905 |\n",
      "|             South Africa | ZAF  |  55386367 |  56203654 |  57000451 |  57779622 |  58558270 |\n",
      "|              South Sudan | SSD  |  10715658 |  10832512 |  10910759 |  10975920 |  11062113 |\n",
      "|                    Sudan | SDN  |  38902950 |  39847440 |  40813396 |  41801533 |  42813238 |\n",
      "|                 Tanzania | TZA  |  51482633 |  53050790 |  54663906 |  56318348 |  58005463 |\n",
      "|                     Togo | TGO  |   7323158 |   7509952 |   7698475 |   7889094 |   8082366 |\n",
      "|                  Tunisia | TUN  |  11179949 |  11303946 |  11433443 |  11565204 |  11694719 |\n",
      "|                   Uganda | UGA  |  38225453 |  39647506 |  41162465 |  42723139 |  44269594 |\n",
      "|              Yemen, Rep. | YEM  |  26497889 |  27168210 |  27834821 |  28498687 |  29161922 |\n",
      "|                   Zambia | ZMB  |  15879361 |  16363507 |  16853688 |  17351822 |  17861030 |\n",
      "|                 Zimbabwe | ZWE  |  13814629 |  14030390 |  14236745 |  14439018 |  14645468 |\n",
      "+--------------------------+------+-----------+-----------+-----------+-----------+-----------+\n",
      "\n",
      "\n",
      "AFRICAN POPULATION STATISTICS\n",
      "+-----------------+----------------+----------------+----------------+----------------+----------------+\n",
      "| Summary Measure |           2015 |           2016 |           2017 |           2018 |           2019 |\n",
      "+-----------------+----------------+----------------+----------------+----------------+----------------+\n",
      "|            MEAN |  22,491,651.21 |  23,072,804.02 |  23,664,411.29 |  24,265,356.31 |  24,874,643.13 |\n",
      "|             MAX | 181,137,448.00 | 185,960,289.00 | 190,873,311.00 | 195,874,740.00 | 200,963,599.00 |\n",
      "|             MIN |      93,419.00 |      94,677.00 |      95,843.00 |      96,762.00 |      97,625.00 |\n",
      "+-----------------+----------------+----------------+----------------+----------------+----------------+\n"
     ]
    }
   ],
   "source": [
    "#getting raw data in a list\n",
    "afr_data = []\n",
    "afr_data = create_dataset_list('africa_pop_data.csv')\n",
    "\n",
    "#getting population nd array\n",
    "afr_pops = popsOnly(afr_data)\n",
    "\n",
    "#printing first table\n",
    "print(tabulateDataRaw(afr_data))\n",
    "\n",
    "print()\n",
    "print()\n",
    "print('AFRICAN POPULATION STATISTICS')\n",
    "print(tabulateMeanMaxMin(afr_pops))"
   ]
  }
 ],
 "metadata": {
  "kernelspec": {
   "display_name": "Python 3",
   "language": "python",
   "name": "python3"
  },
  "language_info": {
   "codemirror_mode": {
    "name": "ipython",
    "version": 3
   },
   "file_extension": ".py",
   "mimetype": "text/x-python",
   "name": "python",
   "nbconvert_exporter": "python",
   "pygments_lexer": "ipython3",
   "version": "3.8.3"
  }
 },
 "nbformat": 4,
 "nbformat_minor": 4
}
